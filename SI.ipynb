{
 "cells": [
  {
   "cell_type": "code",
   "execution_count": null,
   "metadata": {},
   "outputs": [],
   "source": [
    "import random\n",
    "\n",
    "list = [\"Pyoter\",\"Erwin\",\"Kajto\",\"Milena\",\"Julka\",\"Mati U\",\"Kacper\",\"Krzysiu\"]\n",
    "\n",
    "random.shuffle(list)\n",
    "\n",
    "print(f\"3) Przeszukiwanie {list[0]}\\n6) Planowanie {list[1]}\\n8) System z bazą wiedzy {list[2]}\\n9 i 10) Wiedza i jej reprezentacja {list[3]}\\n11) Rachunek prawdopodobieństwa i czynnik pewności (CF) {list[4]}\\n12) Wnioskowanie w logice rozmytej {list[5]}\\n14) Wprowadzenie do ML: tu: rodzaje ML, algorytm ILA {list[6]}\\n15) Generowanie drzew decyzyjnych {list[7]}\\n\")"
   ]
  }
 ],
 "metadata": {
  "kernelspec": {
   "display_name": "Python 3.10.5 64-bit",
   "language": "python",
   "name": "python3"
  },
  "language_info": {
   "codemirror_mode": {
    "name": "ipython",
    "version": 3
   },
   "file_extension": ".py",
   "mimetype": "text/x-python",
   "name": "python",
   "nbconvert_exporter": "python",
   "pygments_lexer": "ipython3",
   "version": "3.10.5"
  },
  "orig_nbformat": 4,
  "vscode": {
   "interpreter": {
    "hash": "aee8b7b246df8f9039afb4144a1f6fd8d2ca17a180786b69acc140d282b71a49"
   }
  }
 },
 "nbformat": 4,
 "nbformat_minor": 2
}
