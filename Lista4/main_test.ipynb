{
 "cells": [
  {
   "cell_type": "code",
   "execution_count": 20,
   "metadata": {},
   "outputs": [],
   "source": [
    "import pandas as pd\n",
    "from IPython.display import display"
   ]
  },
  {
   "cell_type": "code",
   "execution_count": 42,
   "metadata": {},
   "outputs": [],
   "source": [
    "df = pd.read_csv('data/booksummaries.txt', delimiter='\\t')\n",
    "df.columns = ['WikipediaID', 'Freebase ID', 'Book title', 'Book author', 'Publication date', 'Genres', 'Plot summary']\n",
    "df.drop(['WikipediaID', 'Freebase ID', 'Book author', 'Publication date'], inplace=True, axis=1)\n",
    "\n",
    "df = df[df['Genres'].notna()]\n",
    "df = df[~(df['Genres'].str.contains('hildren') & df['Genres'].str.contains('orror'))]\n",
    "df = df[~(df['Genres'].str.contains('iction') & df['Genres'].str.contains('antasy'))]\n",
    "df = df[~(df['Genres'].str.contains('iction') & df['Genres'].str.contains('ovel'))]\n",
    "\n",
    "df.loc[df['Genres'].str.contains('hildren', na = False), 'Genres'] = 'Children'\n",
    "df.loc[df['Genres'].str.contains('iction', na = False), 'Genres'] = 'Fiction'\n",
    "df.loc[df['Genres'].str.contains('ovel', na = False), 'Genres'] = 'Novel'\n",
    "df.loc[df['Genres'].str.contains('antasy', na = False), 'Genres'] = 'Fantasy' \n",
    "df.loc[df['Genres'].str.contains('ystery', na = False), 'Genres'] = 'Mystery'\n",
    "df.loc[df['Genres'].str.contains('orror', na = False), 'Genres'] = 'Horror'\n",
    "\n",
    "df = df[~(df['Genres'].str.contains('}'))]\n",
    "\n",
    "df.dropna(subset = ['Genres'], inplace=True)\n",
    "df.reset_index(drop=True, inplace=True)"
   ]
  },
  {
   "cell_type": "code",
   "execution_count": 43,
   "metadata": {},
   "outputs": [
    {
     "data": {
      "text/html": [
       "<div>\n",
       "<style scoped>\n",
       "    .dataframe tbody tr th:only-of-type {\n",
       "        vertical-align: middle;\n",
       "    }\n",
       "\n",
       "    .dataframe tbody tr th {\n",
       "        vertical-align: top;\n",
       "    }\n",
       "\n",
       "    .dataframe thead th {\n",
       "        text-align: right;\n",
       "    }\n",
       "</style>\n",
       "<table border=\"1\" class=\"dataframe\">\n",
       "  <thead>\n",
       "    <tr style=\"text-align: right;\">\n",
       "      <th></th>\n",
       "      <th>Book title</th>\n",
       "      <th>Genres</th>\n",
       "      <th>Plot summary</th>\n",
       "    </tr>\n",
       "  </thead>\n",
       "  <tbody>\n",
       "    <tr>\n",
       "      <th>0</th>\n",
       "      <td>All Quiet on the Western Front</td>\n",
       "      <td>Novel</td>\n",
       "      <td>The book tells the story of Paul Bäumer, a Ge...</td>\n",
       "    </tr>\n",
       "    <tr>\n",
       "      <th>1</th>\n",
       "      <td>Blade Runner 3: Replicant Night</td>\n",
       "      <td>Fiction</td>\n",
       "      <td>Living on Mars, Deckard is acting as a consul...</td>\n",
       "    </tr>\n",
       "    <tr>\n",
       "      <th>2</th>\n",
       "      <td>Blade Runner 2: The Edge of Human</td>\n",
       "      <td>Fiction</td>\n",
       "      <td>Beginning several months after the events in ...</td>\n",
       "    </tr>\n",
       "    <tr>\n",
       "      <th>3</th>\n",
       "      <td>Children of Dune</td>\n",
       "      <td>Children</td>\n",
       "      <td>Nine years after Emperor Paul Muad'dib walked...</td>\n",
       "    </tr>\n",
       "    <tr>\n",
       "      <th>4</th>\n",
       "      <td>Candide, ou l'Optimisme</td>\n",
       "      <td>Novel</td>\n",
       "      <td>Candide contains thirty episodic chapters, wh...</td>\n",
       "    </tr>\n",
       "    <tr>\n",
       "      <th>...</th>\n",
       "      <td>...</td>\n",
       "      <td>...</td>\n",
       "      <td>...</td>\n",
       "    </tr>\n",
       "    <tr>\n",
       "      <th>7975</th>\n",
       "      <td>Dark Angel</td>\n",
       "      <td>Fiction</td>\n",
       "      <td>After the events of Heaven (the first book in...</td>\n",
       "    </tr>\n",
       "    <tr>\n",
       "      <th>7976</th>\n",
       "      <td>Gates of Paradise</td>\n",
       "      <td>Fiction</td>\n",
       "      <td>A novel about Annie Stonewall, the daughter o...</td>\n",
       "    </tr>\n",
       "    <tr>\n",
       "      <th>7977</th>\n",
       "      <td>The Third Lynx</td>\n",
       "      <td>Fiction</td>\n",
       "      <td>The story starts with former government agent...</td>\n",
       "    </tr>\n",
       "    <tr>\n",
       "      <th>7978</th>\n",
       "      <td>Remote Control</td>\n",
       "      <td>Fiction</td>\n",
       "      <td>The series follows the character of Nick Ston...</td>\n",
       "    </tr>\n",
       "    <tr>\n",
       "      <th>7979</th>\n",
       "      <td>Transfer of Power</td>\n",
       "      <td>Fiction</td>\n",
       "      <td>The reader first meets Rapp while he is doing...</td>\n",
       "    </tr>\n",
       "  </tbody>\n",
       "</table>\n",
       "<p>7980 rows × 3 columns</p>\n",
       "</div>"
      ],
      "text/plain": [
       "                             Book title    Genres  \\\n",
       "0        All Quiet on the Western Front     Novel   \n",
       "1       Blade Runner 3: Replicant Night   Fiction   \n",
       "2     Blade Runner 2: The Edge of Human   Fiction   \n",
       "3                      Children of Dune  Children   \n",
       "4               Candide, ou l'Optimisme     Novel   \n",
       "...                                 ...       ...   \n",
       "7975                         Dark Angel   Fiction   \n",
       "7976                  Gates of Paradise   Fiction   \n",
       "7977                     The Third Lynx   Fiction   \n",
       "7978                     Remote Control   Fiction   \n",
       "7979                  Transfer of Power   Fiction   \n",
       "\n",
       "                                           Plot summary  \n",
       "0      The book tells the story of Paul Bäumer, a Ge...  \n",
       "1      Living on Mars, Deckard is acting as a consul...  \n",
       "2      Beginning several months after the events in ...  \n",
       "3      Nine years after Emperor Paul Muad'dib walked...  \n",
       "4      Candide contains thirty episodic chapters, wh...  \n",
       "...                                                 ...  \n",
       "7975   After the events of Heaven (the first book in...  \n",
       "7976   A novel about Annie Stonewall, the daughter o...  \n",
       "7977   The story starts with former government agent...  \n",
       "7978   The series follows the character of Nick Ston...  \n",
       "7979   The reader first meets Rapp while he is doing...  \n",
       "\n",
       "[7980 rows x 3 columns]"
      ]
     },
     "metadata": {},
     "output_type": "display_data"
    },
    {
     "data": {
      "text/plain": [
       "<AxesSubplot:>"
      ]
     },
     "execution_count": 43,
     "metadata": {},
     "output_type": "execute_result"
    },
    {
     "data": {
      "image/png": "[encoded data removed]",
      "text/plain": [
       "<Figure size 432x288 with 1 Axes>"
      ]
     },
     "metadata": {
      "needs_background": "light"
     },
     "output_type": "display_data"
    }
   ],
   "source": [
    "display(df)\n",
    "df['Genres'].value_counts().plot(kind='bar')"
   ]
  },
  {
   "cell_type": "code",
   "execution_count": 44,
   "metadata": {},
   "outputs": [],
   "source": [
    "from sklearn.feature_extraction.text import CountVectorizer\n",
    "from sklearn.feature_extraction.text import TfidfTransformer\n",
    "\n",
    "vectorizer = CountVectorizer(stop_words='english')\n",
    "word_count = vectorizer.fit_transform(df['Plot summary'])\n",
    "tfidf_transformer = TfidfTransformer()\n",
    "word_count_tfidf = tfidf_transformer.fit_transform(word_count)"
   ]
  },
  {
   "cell_type": "code",
   "execution_count": 66,
   "metadata": {},
   "outputs": [
    {
     "name": "stdout",
     "output_type": "stream",
     "text": [
      "0.5409356725146199\n",
      "0.6528822055137845\n"
     ]
    }
   ],
   "source": [
    "from sklearn.model_selection import train_test_split\n",
    "from sklearn.naive_bayes import MultinomialNB\n",
    "from sklearn.linear_model import SGDClassifier\n",
    "\n",
    "X_train, X_test, y_train, y_test = train_test_split(word_count_tfidf, df['Genres'], test_size=0.3)\n",
    "nb_classifier = MultinomialNB()\n",
    "nb_classifier.fit(X_train, y_train)\n",
    "\n",
    "print(nb_classifier.score(X_test, y_test))\n",
    "\n",
    "svm_classifier = SGDClassifier(loss='squared_hinge', penalty='l2',\n",
    "                        alpha=1e-3, random_state=42,\n",
    "                        max_iter=5, tol=None)\n",
    "\n",
    "svm_classifier.fit(X_train, y_train)\n",
    "print(svm_classifier.score(X_test, y_test))\n"
   ]
  },
  {
   "cell_type": "code",
   "execution_count": 33,
   "metadata": {},
   "outputs": [
    {
     "name": "stdout",
     "output_type": "stream",
     "text": [
      "0.5488721804511278\n",
      "0.5806182121971596\n"
     ]
    }
   ],
   "source": [
    "from sklearn.pipeline import Pipeline\n",
    "\n",
    "\n",
    "X_train, X_test, y_train, y_test = train_test_split(df['Plot summary'], df['Genres'], test_size=0.3)\n",
    "\n",
    "nb_pipeline = Pipeline([\n",
    "    ('vect', CountVectorizer(stop_words='english')),\n",
    "    ('tfidf', TfidfTransformer()),\n",
    "    ('clf', MultinomialNB())\n",
    "])\n",
    "\n",
    "nb_pipeline.fit(X_train, y_train)\n",
    "print(nb_pipeline.score(X_test, y_test))\n",
    "\n",
    "svm_pipeline = Pipeline([\n",
    "    ('vect', CountVectorizer(stop_words='english')),\n",
    "    ('tfidf', TfidfTransformer()),\n",
    "    ('clf', SGDClassifier(loss='hinge', penalty='l2',\n",
    "                        alpha=1e-3, random_state=42,\n",
    "                        max_iter=5, tol=None))\n",
    "])\n",
    "\n",
    "svm_pipeline.fit(X_train, y_train)\n",
    "print(svm_pipeline.score(X_test, y_test))"
   ]
  },
  {
   "cell_type": "code",
   "execution_count": null,
   "metadata": {},
   "outputs": [],
   "source": []
  }
 ],
 "metadata": {
  "interpreter": {
   "hash": "40e0108b4206bf8f3b082539d987ee45a848c77a2d0b3ed5af98b677933d1b02"
  },
  "kernelspec": {
   "display_name": "Python 3.9.13 64-bit (windows store)",
   "language": "python",
   "name": "python3"
  },
  "language_info": {
   "codemirror_mode": {
    "name": "ipython",
    "version": 3
   },
   "file_extension": ".py",
   "mimetype": "text/x-python",
   "name": "python",
   "nbconvert_exporter": "python",
   "pygments_lexer": "ipython3",
   "version": "3.9.13"
  },
  "orig_nbformat": 4
 },
 "nbformat": 4,
 "nbformat_minor": 2
}
