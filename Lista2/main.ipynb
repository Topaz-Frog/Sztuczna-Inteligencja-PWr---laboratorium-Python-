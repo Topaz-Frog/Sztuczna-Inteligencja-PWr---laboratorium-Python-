{
 "cells": [
  {
   "cell_type": "code",
   "execution_count": 11,
   "metadata": {},
   "outputs": [],
   "source": [
    "from utilis import readBinaryFile, readFutoFile, printPuzzle\n",
    "from alghoritms import Algorithms\n",
    "\n",
    "isForward = False\n",
    "# isForward = True\n",
    "\n",
    "# isBinary = True\n",
    "# filename = \"binary-futoshiki_dane_v1/binary_6x6\"\n",
    "# filename = \"binary-futoshiki_dane_v1/binary_8x8\"\n",
    "# filename = \"binary-futoshiki_dane_v1/binary_10x10\"\n",
    "\n",
    "isBinary = False\n",
    "# filename = \"binary-futoshiki_dane_v1/futoshiki_4x4\"\n",
    "filename = \"binary-futoshiki_dane_v1/futoshiki_5x5\"\n",
    "# filename = \"binary-futoshiki_dane_v1/futoshiki_6x6\"\n"
   ]
  },
  {
   "cell_type": "code",
   "execution_count": 12,
   "metadata": {},
   "outputs": [
    {
     "name": "stdout",
     "output_type": "stream",
     "text": [
      "2, 3, 1, 4, 5, \n",
      "4, 1, 3, 5, 2, \n",
      "1, 5, 4, 2, 3, \n",
      "5, 4, 2, 3, 1, \n",
      "3, 2, 5, 1, 4, \n",
      "\n",
      "1\n"
     ]
    }
   ],
   "source": [
    "if isBinary:\n",
    "    thePuzzle = readBinaryFile(filename)\n",
    "    scope = [0,1]\n",
    "    alg = Algorithms(thePuzzle, isBinary, isForward, None)\n",
    "    alg.tracking()\n",
    "    print(len(alg.solutions))\n",
    "else:\n",
    "    constraints, thePuzzle = readFutoFile(filename)\n",
    "    alg = Algorithms(thePuzzle, isBinary, isForward, constraints)\n",
    "    alg.tracking()\n",
    "    print(len(alg.solutions))"
   ]
  }
 ],
 "metadata": {
  "interpreter": {
   "hash": "a97df169c55ec6d7c7543b7048e6776fec4eaa3ab2f3b5a88bcd878f4e6aab05"
  },
  "kernelspec": {
   "display_name": "Python 3.9.7 ('myenv')",
   "language": "python",
   "name": "python3"
  },
  "language_info": {
   "codemirror_mode": {
    "name": "ipython",
    "version": 3
   },
   "file_extension": ".py",
   "mimetype": "text/x-python",
   "name": "python",
   "nbconvert_exporter": "python",
   "pygments_lexer": "ipython3",
   "version": "3.9.7"
  },
  "orig_nbformat": 4
 },
 "nbformat": 4,
 "nbformat_minor": 2
}
